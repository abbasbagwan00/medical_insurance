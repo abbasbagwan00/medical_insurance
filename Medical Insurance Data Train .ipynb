{
 "cells": [
  {
   "cell_type": "code",
   "execution_count": 1,
   "id": "31eb790e",
   "metadata": {},
   "outputs": [],
   "source": [
    "import pandas as pd\n",
    "import numpy as np \n",
    "\n",
    "from sklearn.model_selection import train_test_split \n",
    "from sklearn.linear_model import LinearRegression\n",
    "\n",
    "from sklearn.metrics import mean_absolute_error, mean_squared_error, r2_score\n",
    "\n",
    "import pickle\n",
    "import json\n",
    "\n",
    "import seaborn as sns\n",
    "import matplotlib.pyplot as plt\n",
    "\n",
    "from statsmodels.stats.outliers_influence import variance_inflation_factor\n",
    "\n",
    "import warnings\n",
    "warnings.filterwarnings('ignore')"
   ]
  },
  {
   "cell_type": "markdown",
   "id": "831cd46f",
   "metadata": {},
   "source": [
    "### 1. Problem Statement"
   ]
  },
  {
   "cell_type": "code",
   "execution_count": null,
   "id": "6a72819c",
   "metadata": {},
   "outputs": [],
   "source": [
    "Problem Statement : To predict charges of medical insurance by using various features\n",
    "    \n",
    "    Features :\n",
    "        \n",
    "        'age', 'gender', 'bmi', 'children', 'smoker', 'region', 'charges',\n",
    "        "
   ]
  },
  {
   "cell_type": "markdown",
   "id": "55622cc1",
   "metadata": {},
   "source": [
    "### 2. Data Gathering"
   ]
  },
  {
   "cell_type": "code",
   "execution_count": 3,
   "id": "0b4551bc",
   "metadata": {
    "scrolled": false
   },
   "outputs": [
    {
     "data": {
      "text/html": [
       "<div>\n",
       "<style scoped>\n",
       "    .dataframe tbody tr th:only-of-type {\n",
       "        vertical-align: middle;\n",
       "    }\n",
       "\n",
       "    .dataframe tbody tr th {\n",
       "        vertical-align: top;\n",
       "    }\n",
       "\n",
       "    .dataframe thead th {\n",
       "        text-align: right;\n",
       "    }\n",
       "</style>\n",
       "<table border=\"1\" class=\"dataframe\">\n",
       "  <thead>\n",
       "    <tr style=\"text-align: right;\">\n",
       "      <th></th>\n",
       "      <th>age</th>\n",
       "      <th>gender</th>\n",
       "      <th>bmi</th>\n",
       "      <th>children</th>\n",
       "      <th>smoker</th>\n",
       "      <th>region</th>\n",
       "      <th>charges</th>\n",
       "    </tr>\n",
       "  </thead>\n",
       "  <tbody>\n",
       "    <tr>\n",
       "      <th>0</th>\n",
       "      <td>19</td>\n",
       "      <td>female</td>\n",
       "      <td>27.900</td>\n",
       "      <td>0</td>\n",
       "      <td>yes</td>\n",
       "      <td>southwest</td>\n",
       "      <td>16884.92400</td>\n",
       "    </tr>\n",
       "    <tr>\n",
       "      <th>1</th>\n",
       "      <td>18</td>\n",
       "      <td>male</td>\n",
       "      <td>33.770</td>\n",
       "      <td>1</td>\n",
       "      <td>no</td>\n",
       "      <td>southeast</td>\n",
       "      <td>1725.55230</td>\n",
       "    </tr>\n",
       "    <tr>\n",
       "      <th>2</th>\n",
       "      <td>28</td>\n",
       "      <td>male</td>\n",
       "      <td>33.000</td>\n",
       "      <td>3</td>\n",
       "      <td>no</td>\n",
       "      <td>southeast</td>\n",
       "      <td>4449.46200</td>\n",
       "    </tr>\n",
       "    <tr>\n",
       "      <th>3</th>\n",
       "      <td>33</td>\n",
       "      <td>male</td>\n",
       "      <td>22.705</td>\n",
       "      <td>0</td>\n",
       "      <td>no</td>\n",
       "      <td>northwest</td>\n",
       "      <td>21984.47061</td>\n",
       "    </tr>\n",
       "    <tr>\n",
       "      <th>4</th>\n",
       "      <td>32</td>\n",
       "      <td>male</td>\n",
       "      <td>28.880</td>\n",
       "      <td>0</td>\n",
       "      <td>no</td>\n",
       "      <td>northwest</td>\n",
       "      <td>3866.85520</td>\n",
       "    </tr>\n",
       "    <tr>\n",
       "      <th>...</th>\n",
       "      <td>...</td>\n",
       "      <td>...</td>\n",
       "      <td>...</td>\n",
       "      <td>...</td>\n",
       "      <td>...</td>\n",
       "      <td>...</td>\n",
       "      <td>...</td>\n",
       "    </tr>\n",
       "    <tr>\n",
       "      <th>1333</th>\n",
       "      <td>50</td>\n",
       "      <td>male</td>\n",
       "      <td>30.970</td>\n",
       "      <td>3</td>\n",
       "      <td>no</td>\n",
       "      <td>northwest</td>\n",
       "      <td>10600.54830</td>\n",
       "    </tr>\n",
       "    <tr>\n",
       "      <th>1334</th>\n",
       "      <td>18</td>\n",
       "      <td>female</td>\n",
       "      <td>31.920</td>\n",
       "      <td>0</td>\n",
       "      <td>no</td>\n",
       "      <td>northeast</td>\n",
       "      <td>2205.98080</td>\n",
       "    </tr>\n",
       "    <tr>\n",
       "      <th>1335</th>\n",
       "      <td>18</td>\n",
       "      <td>female</td>\n",
       "      <td>36.850</td>\n",
       "      <td>0</td>\n",
       "      <td>no</td>\n",
       "      <td>southeast</td>\n",
       "      <td>1629.83350</td>\n",
       "    </tr>\n",
       "    <tr>\n",
       "      <th>1336</th>\n",
       "      <td>21</td>\n",
       "      <td>female</td>\n",
       "      <td>25.800</td>\n",
       "      <td>0</td>\n",
       "      <td>no</td>\n",
       "      <td>southwest</td>\n",
       "      <td>2007.94500</td>\n",
       "    </tr>\n",
       "    <tr>\n",
       "      <th>1337</th>\n",
       "      <td>61</td>\n",
       "      <td>female</td>\n",
       "      <td>29.070</td>\n",
       "      <td>0</td>\n",
       "      <td>yes</td>\n",
       "      <td>northwest</td>\n",
       "      <td>29141.36030</td>\n",
       "    </tr>\n",
       "  </tbody>\n",
       "</table>\n",
       "<p>1338 rows × 7 columns</p>\n",
       "</div>"
      ],
      "text/plain": [
       "      age  gender     bmi  children smoker     region      charges\n",
       "0      19  female  27.900         0    yes  southwest  16884.92400\n",
       "1      18    male  33.770         1     no  southeast   1725.55230\n",
       "2      28    male  33.000         3     no  southeast   4449.46200\n",
       "3      33    male  22.705         0     no  northwest  21984.47061\n",
       "4      32    male  28.880         0     no  northwest   3866.85520\n",
       "...   ...     ...     ...       ...    ...        ...          ...\n",
       "1333   50    male  30.970         3     no  northwest  10600.54830\n",
       "1334   18  female  31.920         0     no  northeast   2205.98080\n",
       "1335   18  female  36.850         0     no  southeast   1629.83350\n",
       "1336   21  female  25.800         0     no  southwest   2007.94500\n",
       "1337   61  female  29.070         0    yes  northwest  29141.36030\n",
       "\n",
       "[1338 rows x 7 columns]"
      ]
     },
     "execution_count": 3,
     "metadata": {},
     "output_type": "execute_result"
    }
   ],
   "source": [
    "df = pd.read_csv('medical_insurance.csv')\n",
    "\n",
    "df"
   ]
  },
  {
   "cell_type": "code",
   "execution_count": 17,
   "id": "5123de2d",
   "metadata": {},
   "outputs": [
    {
     "data": {
      "text/plain": [
       "Index(['age', 'gender', 'bmi', 'children', 'smoker', 'region', 'charges'], dtype='object')"
      ]
     },
     "execution_count": 17,
     "metadata": {},
     "output_type": "execute_result"
    }
   ],
   "source": [
    "df.columns"
   ]
  },
  {
   "cell_type": "code",
   "execution_count": 18,
   "id": "406e3a45",
   "metadata": {},
   "outputs": [
    {
     "name": "stdout",
     "output_type": "stream",
     "text": [
      "<class 'pandas.core.frame.DataFrame'>\n",
      "RangeIndex: 1338 entries, 0 to 1337\n",
      "Data columns (total 7 columns):\n",
      " #   Column    Non-Null Count  Dtype  \n",
      "---  ------    --------------  -----  \n",
      " 0   age       1338 non-null   int64  \n",
      " 1   gender    1338 non-null   object \n",
      " 2   bmi       1338 non-null   float64\n",
      " 3   children  1338 non-null   int64  \n",
      " 4   smoker    1338 non-null   object \n",
      " 5   region    1338 non-null   object \n",
      " 6   charges   1338 non-null   float64\n",
      "dtypes: float64(2), int64(2), object(3)\n",
      "memory usage: 73.3+ KB\n"
     ]
    }
   ],
   "source": [
    "df.info()"
   ]
  },
  {
   "cell_type": "markdown",
   "id": "2b80054b",
   "metadata": {},
   "source": [
    "### 3. EDA and Features Engineering"
   ]
  },
  {
   "cell_type": "code",
   "execution_count": 19,
   "id": "4bb119f4",
   "metadata": {},
   "outputs": [
    {
     "name": "stdout",
     "output_type": "stream",
     "text": [
      "<class 'pandas.core.frame.DataFrame'>\n",
      "RangeIndex: 1338 entries, 0 to 1337\n",
      "Data columns (total 7 columns):\n",
      " #   Column    Non-Null Count  Dtype  \n",
      "---  ------    --------------  -----  \n",
      " 0   age       1338 non-null   int64  \n",
      " 1   gender    1338 non-null   object \n",
      " 2   bmi       1338 non-null   float64\n",
      " 3   children  1338 non-null   int64  \n",
      " 4   smoker    1338 non-null   object \n",
      " 5   region    1338 non-null   object \n",
      " 6   charges   1338 non-null   float64\n",
      "dtypes: float64(2), int64(2), object(3)\n",
      "memory usage: 73.3+ KB\n"
     ]
    }
   ],
   "source": [
    "df.info()"
   ]
  },
  {
   "cell_type": "markdown",
   "id": "e0fe6640",
   "metadata": {},
   "source": [
    "#### 1. Gender"
   ]
  },
  {
   "cell_type": "code",
   "execution_count": 20,
   "id": "8ce75f71",
   "metadata": {},
   "outputs": [
    {
     "data": {
      "text/plain": [
       "male      676\n",
       "female    662\n",
       "Name: gender, dtype: int64"
      ]
     },
     "execution_count": 20,
     "metadata": {},
     "output_type": "execute_result"
    }
   ],
   "source": [
    "df['gender'].value_counts()"
   ]
  },
  {
   "cell_type": "code",
   "execution_count": 21,
   "id": "4b318952",
   "metadata": {
    "scrolled": true
   },
   "outputs": [
    {
     "data": {
      "text/plain": [
       "0       0\n",
       "1       1\n",
       "2       1\n",
       "3       1\n",
       "4       1\n",
       "       ..\n",
       "1333    1\n",
       "1334    0\n",
       "1335    0\n",
       "1336    0\n",
       "1337    0\n",
       "Name: gender, Length: 1338, dtype: int64"
      ]
     },
     "execution_count": 21,
     "metadata": {},
     "output_type": "execute_result"
    }
   ],
   "source": [
    "df['gender'].replace({'male': 1, 'female': 0},inplace = True)\n",
    "\n",
    "df['gender']"
   ]
  },
  {
   "cell_type": "code",
   "execution_count": 22,
   "id": "a4e6dad4",
   "metadata": {},
   "outputs": [],
   "source": [
    "gender_data = {'male': 1, 'female': 0}"
   ]
  },
  {
   "cell_type": "code",
   "execution_count": 23,
   "id": "20e7dbd6",
   "metadata": {},
   "outputs": [
    {
     "name": "stdout",
     "output_type": "stream",
     "text": [
      "<class 'pandas.core.frame.DataFrame'>\n",
      "RangeIndex: 1338 entries, 0 to 1337\n",
      "Data columns (total 7 columns):\n",
      " #   Column    Non-Null Count  Dtype  \n",
      "---  ------    --------------  -----  \n",
      " 0   age       1338 non-null   int64  \n",
      " 1   gender    1338 non-null   int64  \n",
      " 2   bmi       1338 non-null   float64\n",
      " 3   children  1338 non-null   int64  \n",
      " 4   smoker    1338 non-null   object \n",
      " 5   region    1338 non-null   object \n",
      " 6   charges   1338 non-null   float64\n",
      "dtypes: float64(2), int64(3), object(2)\n",
      "memory usage: 73.3+ KB\n"
     ]
    }
   ],
   "source": [
    "df.info()"
   ]
  },
  {
   "cell_type": "markdown",
   "id": "22c5bd6e",
   "metadata": {},
   "source": [
    "#### 2. Smoker"
   ]
  },
  {
   "cell_type": "code",
   "execution_count": 24,
   "id": "93aa82a1",
   "metadata": {},
   "outputs": [
    {
     "data": {
      "text/plain": [
       "no     1064\n",
       "yes     274\n",
       "Name: smoker, dtype: int64"
      ]
     },
     "execution_count": 24,
     "metadata": {},
     "output_type": "execute_result"
    }
   ],
   "source": [
    "df['smoker'].value_counts()"
   ]
  },
  {
   "cell_type": "code",
   "execution_count": 25,
   "id": "9621005e",
   "metadata": {
    "scrolled": true
   },
   "outputs": [
    {
     "data": {
      "text/plain": [
       "0       1\n",
       "1       0\n",
       "2       0\n",
       "3       0\n",
       "4       0\n",
       "       ..\n",
       "1333    0\n",
       "1334    0\n",
       "1335    0\n",
       "1336    0\n",
       "1337    1\n",
       "Name: smoker, Length: 1338, dtype: int64"
      ]
     },
     "execution_count": 25,
     "metadata": {},
     "output_type": "execute_result"
    }
   ],
   "source": [
    "df['smoker'].replace({'yes': 1, 'no': 0}, inplace = True)\n",
    "\n",
    "df['smoker']"
   ]
  },
  {
   "cell_type": "code",
   "execution_count": 26,
   "id": "0e5f4d82",
   "metadata": {},
   "outputs": [],
   "source": [
    "smoker_data = {'yes': 1, 'no': 0}"
   ]
  },
  {
   "cell_type": "code",
   "execution_count": 27,
   "id": "d1670073",
   "metadata": {},
   "outputs": [
    {
     "name": "stdout",
     "output_type": "stream",
     "text": [
      "<class 'pandas.core.frame.DataFrame'>\n",
      "RangeIndex: 1338 entries, 0 to 1337\n",
      "Data columns (total 7 columns):\n",
      " #   Column    Non-Null Count  Dtype  \n",
      "---  ------    --------------  -----  \n",
      " 0   age       1338 non-null   int64  \n",
      " 1   gender    1338 non-null   int64  \n",
      " 2   bmi       1338 non-null   float64\n",
      " 3   children  1338 non-null   int64  \n",
      " 4   smoker    1338 non-null   int64  \n",
      " 5   region    1338 non-null   object \n",
      " 6   charges   1338 non-null   float64\n",
      "dtypes: float64(2), int64(4), object(1)\n",
      "memory usage: 73.3+ KB\n"
     ]
    }
   ],
   "source": [
    "df.info()"
   ]
  },
  {
   "cell_type": "markdown",
   "id": "49e4edd6",
   "metadata": {},
   "source": [
    "#### 3. Region"
   ]
  },
  {
   "cell_type": "code",
   "execution_count": 28,
   "id": "4d6c6942",
   "metadata": {},
   "outputs": [
    {
     "data": {
      "text/plain": [
       "southeast    364\n",
       "southwest    325\n",
       "northwest    325\n",
       "northeast    324\n",
       "Name: region, dtype: int64"
      ]
     },
     "execution_count": 28,
     "metadata": {},
     "output_type": "execute_result"
    }
   ],
   "source": [
    "df['region'].value_counts()  # nominal data"
   ]
  },
  {
   "cell_type": "code",
   "execution_count": 29,
   "id": "71819a6c",
   "metadata": {},
   "outputs": [],
   "source": [
    "df = pd.get_dummies(df, columns = ['region'])"
   ]
  },
  {
   "cell_type": "code",
   "execution_count": 30,
   "id": "3fd36605",
   "metadata": {},
   "outputs": [
    {
     "data": {
      "text/html": [
       "<div>\n",
       "<style scoped>\n",
       "    .dataframe tbody tr th:only-of-type {\n",
       "        vertical-align: middle;\n",
       "    }\n",
       "\n",
       "    .dataframe tbody tr th {\n",
       "        vertical-align: top;\n",
       "    }\n",
       "\n",
       "    .dataframe thead th {\n",
       "        text-align: right;\n",
       "    }\n",
       "</style>\n",
       "<table border=\"1\" class=\"dataframe\">\n",
       "  <thead>\n",
       "    <tr style=\"text-align: right;\">\n",
       "      <th></th>\n",
       "      <th>age</th>\n",
       "      <th>gender</th>\n",
       "      <th>bmi</th>\n",
       "      <th>children</th>\n",
       "      <th>smoker</th>\n",
       "      <th>charges</th>\n",
       "      <th>region_northeast</th>\n",
       "      <th>region_northwest</th>\n",
       "      <th>region_southeast</th>\n",
       "      <th>region_southwest</th>\n",
       "    </tr>\n",
       "  </thead>\n",
       "  <tbody>\n",
       "    <tr>\n",
       "      <th>0</th>\n",
       "      <td>19</td>\n",
       "      <td>0</td>\n",
       "      <td>27.900</td>\n",
       "      <td>0</td>\n",
       "      <td>1</td>\n",
       "      <td>16884.92400</td>\n",
       "      <td>0</td>\n",
       "      <td>0</td>\n",
       "      <td>0</td>\n",
       "      <td>1</td>\n",
       "    </tr>\n",
       "    <tr>\n",
       "      <th>1</th>\n",
       "      <td>18</td>\n",
       "      <td>1</td>\n",
       "      <td>33.770</td>\n",
       "      <td>1</td>\n",
       "      <td>0</td>\n",
       "      <td>1725.55230</td>\n",
       "      <td>0</td>\n",
       "      <td>0</td>\n",
       "      <td>1</td>\n",
       "      <td>0</td>\n",
       "    </tr>\n",
       "    <tr>\n",
       "      <th>2</th>\n",
       "      <td>28</td>\n",
       "      <td>1</td>\n",
       "      <td>33.000</td>\n",
       "      <td>3</td>\n",
       "      <td>0</td>\n",
       "      <td>4449.46200</td>\n",
       "      <td>0</td>\n",
       "      <td>0</td>\n",
       "      <td>1</td>\n",
       "      <td>0</td>\n",
       "    </tr>\n",
       "    <tr>\n",
       "      <th>3</th>\n",
       "      <td>33</td>\n",
       "      <td>1</td>\n",
       "      <td>22.705</td>\n",
       "      <td>0</td>\n",
       "      <td>0</td>\n",
       "      <td>21984.47061</td>\n",
       "      <td>0</td>\n",
       "      <td>1</td>\n",
       "      <td>0</td>\n",
       "      <td>0</td>\n",
       "    </tr>\n",
       "    <tr>\n",
       "      <th>4</th>\n",
       "      <td>32</td>\n",
       "      <td>1</td>\n",
       "      <td>28.880</td>\n",
       "      <td>0</td>\n",
       "      <td>0</td>\n",
       "      <td>3866.85520</td>\n",
       "      <td>0</td>\n",
       "      <td>1</td>\n",
       "      <td>0</td>\n",
       "      <td>0</td>\n",
       "    </tr>\n",
       "    <tr>\n",
       "      <th>...</th>\n",
       "      <td>...</td>\n",
       "      <td>...</td>\n",
       "      <td>...</td>\n",
       "      <td>...</td>\n",
       "      <td>...</td>\n",
       "      <td>...</td>\n",
       "      <td>...</td>\n",
       "      <td>...</td>\n",
       "      <td>...</td>\n",
       "      <td>...</td>\n",
       "    </tr>\n",
       "    <tr>\n",
       "      <th>1333</th>\n",
       "      <td>50</td>\n",
       "      <td>1</td>\n",
       "      <td>30.970</td>\n",
       "      <td>3</td>\n",
       "      <td>0</td>\n",
       "      <td>10600.54830</td>\n",
       "      <td>0</td>\n",
       "      <td>1</td>\n",
       "      <td>0</td>\n",
       "      <td>0</td>\n",
       "    </tr>\n",
       "    <tr>\n",
       "      <th>1334</th>\n",
       "      <td>18</td>\n",
       "      <td>0</td>\n",
       "      <td>31.920</td>\n",
       "      <td>0</td>\n",
       "      <td>0</td>\n",
       "      <td>2205.98080</td>\n",
       "      <td>1</td>\n",
       "      <td>0</td>\n",
       "      <td>0</td>\n",
       "      <td>0</td>\n",
       "    </tr>\n",
       "    <tr>\n",
       "      <th>1335</th>\n",
       "      <td>18</td>\n",
       "      <td>0</td>\n",
       "      <td>36.850</td>\n",
       "      <td>0</td>\n",
       "      <td>0</td>\n",
       "      <td>1629.83350</td>\n",
       "      <td>0</td>\n",
       "      <td>0</td>\n",
       "      <td>1</td>\n",
       "      <td>0</td>\n",
       "    </tr>\n",
       "    <tr>\n",
       "      <th>1336</th>\n",
       "      <td>21</td>\n",
       "      <td>0</td>\n",
       "      <td>25.800</td>\n",
       "      <td>0</td>\n",
       "      <td>0</td>\n",
       "      <td>2007.94500</td>\n",
       "      <td>0</td>\n",
       "      <td>0</td>\n",
       "      <td>0</td>\n",
       "      <td>1</td>\n",
       "    </tr>\n",
       "    <tr>\n",
       "      <th>1337</th>\n",
       "      <td>61</td>\n",
       "      <td>0</td>\n",
       "      <td>29.070</td>\n",
       "      <td>0</td>\n",
       "      <td>1</td>\n",
       "      <td>29141.36030</td>\n",
       "      <td>0</td>\n",
       "      <td>1</td>\n",
       "      <td>0</td>\n",
       "      <td>0</td>\n",
       "    </tr>\n",
       "  </tbody>\n",
       "</table>\n",
       "<p>1338 rows × 10 columns</p>\n",
       "</div>"
      ],
      "text/plain": [
       "      age  gender     bmi  children  smoker      charges  region_northeast  \\\n",
       "0      19       0  27.900         0       1  16884.92400                 0   \n",
       "1      18       1  33.770         1       0   1725.55230                 0   \n",
       "2      28       1  33.000         3       0   4449.46200                 0   \n",
       "3      33       1  22.705         0       0  21984.47061                 0   \n",
       "4      32       1  28.880         0       0   3866.85520                 0   \n",
       "...   ...     ...     ...       ...     ...          ...               ...   \n",
       "1333   50       1  30.970         3       0  10600.54830                 0   \n",
       "1334   18       0  31.920         0       0   2205.98080                 1   \n",
       "1335   18       0  36.850         0       0   1629.83350                 0   \n",
       "1336   21       0  25.800         0       0   2007.94500                 0   \n",
       "1337   61       0  29.070         0       1  29141.36030                 0   \n",
       "\n",
       "      region_northwest  region_southeast  region_southwest  \n",
       "0                    0                 0                 1  \n",
       "1                    0                 1                 0  \n",
       "2                    0                 1                 0  \n",
       "3                    1                 0                 0  \n",
       "4                    1                 0                 0  \n",
       "...                ...               ...               ...  \n",
       "1333                 1                 0                 0  \n",
       "1334                 0                 0                 0  \n",
       "1335                 0                 1                 0  \n",
       "1336                 0                 0                 1  \n",
       "1337                 1                 0                 0  \n",
       "\n",
       "[1338 rows x 10 columns]"
      ]
     },
     "execution_count": 30,
     "metadata": {},
     "output_type": "execute_result"
    }
   ],
   "source": [
    "df"
   ]
  },
  {
   "cell_type": "code",
   "execution_count": 31,
   "id": "959e4da4",
   "metadata": {
    "scrolled": true
   },
   "outputs": [
    {
     "name": "stdout",
     "output_type": "stream",
     "text": [
      "<class 'pandas.core.frame.DataFrame'>\n",
      "RangeIndex: 1338 entries, 0 to 1337\n",
      "Data columns (total 10 columns):\n",
      " #   Column            Non-Null Count  Dtype  \n",
      "---  ------            --------------  -----  \n",
      " 0   age               1338 non-null   int64  \n",
      " 1   gender            1338 non-null   int64  \n",
      " 2   bmi               1338 non-null   float64\n",
      " 3   children          1338 non-null   int64  \n",
      " 4   smoker            1338 non-null   int64  \n",
      " 5   charges           1338 non-null   float64\n",
      " 6   region_northeast  1338 non-null   uint8  \n",
      " 7   region_northwest  1338 non-null   uint8  \n",
      " 8   region_southeast  1338 non-null   uint8  \n",
      " 9   region_southwest  1338 non-null   uint8  \n",
      "dtypes: float64(2), int64(4), uint8(4)\n",
      "memory usage: 68.1 KB\n"
     ]
    }
   ],
   "source": [
    "df.info()"
   ]
  },
  {
   "cell_type": "markdown",
   "id": "93049189",
   "metadata": {},
   "source": [
    "### 4. Feature Selection"
   ]
  },
  {
   "cell_type": "code",
   "execution_count": null,
   "id": "9041ad07",
   "metadata": {},
   "outputs": [],
   "source": [
    "1. Linearity\n",
    "2. VIF"
   ]
  },
  {
   "cell_type": "markdown",
   "id": "84ffc462",
   "metadata": {},
   "source": [
    "#### 1. Linearity"
   ]
  },
  {
   "cell_type": "code",
   "execution_count": 32,
   "id": "9db70b7c",
   "metadata": {
    "scrolled": true
   },
   "outputs": [
    {
     "data": {
      "text/html": [
       "<div>\n",
       "<style scoped>\n",
       "    .dataframe tbody tr th:only-of-type {\n",
       "        vertical-align: middle;\n",
       "    }\n",
       "\n",
       "    .dataframe tbody tr th {\n",
       "        vertical-align: top;\n",
       "    }\n",
       "\n",
       "    .dataframe thead th {\n",
       "        text-align: right;\n",
       "    }\n",
       "</style>\n",
       "<table border=\"1\" class=\"dataframe\">\n",
       "  <thead>\n",
       "    <tr style=\"text-align: right;\">\n",
       "      <th></th>\n",
       "      <th>age</th>\n",
       "      <th>gender</th>\n",
       "      <th>bmi</th>\n",
       "      <th>children</th>\n",
       "      <th>smoker</th>\n",
       "      <th>charges</th>\n",
       "      <th>region_northeast</th>\n",
       "      <th>region_northwest</th>\n",
       "      <th>region_southeast</th>\n",
       "      <th>region_southwest</th>\n",
       "    </tr>\n",
       "  </thead>\n",
       "  <tbody>\n",
       "    <tr>\n",
       "      <th>age</th>\n",
       "      <td>1.000000</td>\n",
       "      <td>-0.020856</td>\n",
       "      <td>0.109272</td>\n",
       "      <td>0.042469</td>\n",
       "      <td>-0.025019</td>\n",
       "      <td>0.299008</td>\n",
       "      <td>0.002475</td>\n",
       "      <td>-0.000407</td>\n",
       "      <td>-0.011642</td>\n",
       "      <td>0.010016</td>\n",
       "    </tr>\n",
       "    <tr>\n",
       "      <th>gender</th>\n",
       "      <td>-0.020856</td>\n",
       "      <td>1.000000</td>\n",
       "      <td>0.046371</td>\n",
       "      <td>0.017163</td>\n",
       "      <td>0.076185</td>\n",
       "      <td>0.057292</td>\n",
       "      <td>-0.002425</td>\n",
       "      <td>-0.011156</td>\n",
       "      <td>0.017117</td>\n",
       "      <td>-0.004184</td>\n",
       "    </tr>\n",
       "    <tr>\n",
       "      <th>bmi</th>\n",
       "      <td>0.109272</td>\n",
       "      <td>0.046371</td>\n",
       "      <td>1.000000</td>\n",
       "      <td>0.012759</td>\n",
       "      <td>0.003750</td>\n",
       "      <td>0.198341</td>\n",
       "      <td>-0.138156</td>\n",
       "      <td>-0.135996</td>\n",
       "      <td>0.270025</td>\n",
       "      <td>-0.006205</td>\n",
       "    </tr>\n",
       "    <tr>\n",
       "      <th>children</th>\n",
       "      <td>0.042469</td>\n",
       "      <td>0.017163</td>\n",
       "      <td>0.012759</td>\n",
       "      <td>1.000000</td>\n",
       "      <td>0.007673</td>\n",
       "      <td>0.067998</td>\n",
       "      <td>-0.022808</td>\n",
       "      <td>0.024806</td>\n",
       "      <td>-0.023066</td>\n",
       "      <td>0.021914</td>\n",
       "    </tr>\n",
       "    <tr>\n",
       "      <th>smoker</th>\n",
       "      <td>-0.025019</td>\n",
       "      <td>0.076185</td>\n",
       "      <td>0.003750</td>\n",
       "      <td>0.007673</td>\n",
       "      <td>1.000000</td>\n",
       "      <td>0.787251</td>\n",
       "      <td>0.002811</td>\n",
       "      <td>-0.036945</td>\n",
       "      <td>0.068498</td>\n",
       "      <td>-0.036945</td>\n",
       "    </tr>\n",
       "    <tr>\n",
       "      <th>charges</th>\n",
       "      <td>0.299008</td>\n",
       "      <td>0.057292</td>\n",
       "      <td>0.198341</td>\n",
       "      <td>0.067998</td>\n",
       "      <td>0.787251</td>\n",
       "      <td>1.000000</td>\n",
       "      <td>0.006349</td>\n",
       "      <td>-0.039905</td>\n",
       "      <td>0.073982</td>\n",
       "      <td>-0.043210</td>\n",
       "    </tr>\n",
       "    <tr>\n",
       "      <th>region_northeast</th>\n",
       "      <td>0.002475</td>\n",
       "      <td>-0.002425</td>\n",
       "      <td>-0.138156</td>\n",
       "      <td>-0.022808</td>\n",
       "      <td>0.002811</td>\n",
       "      <td>0.006349</td>\n",
       "      <td>1.000000</td>\n",
       "      <td>-0.320177</td>\n",
       "      <td>-0.345561</td>\n",
       "      <td>-0.320177</td>\n",
       "    </tr>\n",
       "    <tr>\n",
       "      <th>region_northwest</th>\n",
       "      <td>-0.000407</td>\n",
       "      <td>-0.011156</td>\n",
       "      <td>-0.135996</td>\n",
       "      <td>0.024806</td>\n",
       "      <td>-0.036945</td>\n",
       "      <td>-0.039905</td>\n",
       "      <td>-0.320177</td>\n",
       "      <td>1.000000</td>\n",
       "      <td>-0.346265</td>\n",
       "      <td>-0.320829</td>\n",
       "    </tr>\n",
       "    <tr>\n",
       "      <th>region_southeast</th>\n",
       "      <td>-0.011642</td>\n",
       "      <td>0.017117</td>\n",
       "      <td>0.270025</td>\n",
       "      <td>-0.023066</td>\n",
       "      <td>0.068498</td>\n",
       "      <td>0.073982</td>\n",
       "      <td>-0.345561</td>\n",
       "      <td>-0.346265</td>\n",
       "      <td>1.000000</td>\n",
       "      <td>-0.346265</td>\n",
       "    </tr>\n",
       "    <tr>\n",
       "      <th>region_southwest</th>\n",
       "      <td>0.010016</td>\n",
       "      <td>-0.004184</td>\n",
       "      <td>-0.006205</td>\n",
       "      <td>0.021914</td>\n",
       "      <td>-0.036945</td>\n",
       "      <td>-0.043210</td>\n",
       "      <td>-0.320177</td>\n",
       "      <td>-0.320829</td>\n",
       "      <td>-0.346265</td>\n",
       "      <td>1.000000</td>\n",
       "    </tr>\n",
       "  </tbody>\n",
       "</table>\n",
       "</div>"
      ],
      "text/plain": [
       "                       age    gender       bmi  children    smoker   charges  \\\n",
       "age               1.000000 -0.020856  0.109272  0.042469 -0.025019  0.299008   \n",
       "gender           -0.020856  1.000000  0.046371  0.017163  0.076185  0.057292   \n",
       "bmi               0.109272  0.046371  1.000000  0.012759  0.003750  0.198341   \n",
       "children          0.042469  0.017163  0.012759  1.000000  0.007673  0.067998   \n",
       "smoker           -0.025019  0.076185  0.003750  0.007673  1.000000  0.787251   \n",
       "charges           0.299008  0.057292  0.198341  0.067998  0.787251  1.000000   \n",
       "region_northeast  0.002475 -0.002425 -0.138156 -0.022808  0.002811  0.006349   \n",
       "region_northwest -0.000407 -0.011156 -0.135996  0.024806 -0.036945 -0.039905   \n",
       "region_southeast -0.011642  0.017117  0.270025 -0.023066  0.068498  0.073982   \n",
       "region_southwest  0.010016 -0.004184 -0.006205  0.021914 -0.036945 -0.043210   \n",
       "\n",
       "                  region_northeast  region_northwest  region_southeast  \\\n",
       "age                       0.002475         -0.000407         -0.011642   \n",
       "gender                   -0.002425         -0.011156          0.017117   \n",
       "bmi                      -0.138156         -0.135996          0.270025   \n",
       "children                 -0.022808          0.024806         -0.023066   \n",
       "smoker                    0.002811         -0.036945          0.068498   \n",
       "charges                   0.006349         -0.039905          0.073982   \n",
       "region_northeast          1.000000         -0.320177         -0.345561   \n",
       "region_northwest         -0.320177          1.000000         -0.346265   \n",
       "region_southeast         -0.345561         -0.346265          1.000000   \n",
       "region_southwest         -0.320177         -0.320829         -0.346265   \n",
       "\n",
       "                  region_southwest  \n",
       "age                       0.010016  \n",
       "gender                   -0.004184  \n",
       "bmi                      -0.006205  \n",
       "children                  0.021914  \n",
       "smoker                   -0.036945  \n",
       "charges                  -0.043210  \n",
       "region_northeast         -0.320177  \n",
       "region_northwest         -0.320829  \n",
       "region_southeast         -0.346265  \n",
       "region_southwest          1.000000  "
      ]
     },
     "execution_count": 32,
     "metadata": {},
     "output_type": "execute_result"
    }
   ],
   "source": [
    "df.corr()"
   ]
  },
  {
   "cell_type": "code",
   "execution_count": 33,
   "id": "8b4d0ed5",
   "metadata": {
    "scrolled": true
   },
   "outputs": [
    {
     "data": {
      "text/html": [
       "<div>\n",
       "<style scoped>\n",
       "    .dataframe tbody tr th:only-of-type {\n",
       "        vertical-align: middle;\n",
       "    }\n",
       "\n",
       "    .dataframe tbody tr th {\n",
       "        vertical-align: top;\n",
       "    }\n",
       "\n",
       "    .dataframe thead th {\n",
       "        text-align: right;\n",
       "    }\n",
       "</style>\n",
       "<table border=\"1\" class=\"dataframe\">\n",
       "  <thead>\n",
       "    <tr style=\"text-align: right;\">\n",
       "      <th></th>\n",
       "      <th>charges</th>\n",
       "    </tr>\n",
       "  </thead>\n",
       "  <tbody>\n",
       "    <tr>\n",
       "      <th>age</th>\n",
       "      <td>0.299008</td>\n",
       "    </tr>\n",
       "    <tr>\n",
       "      <th>gender</th>\n",
       "      <td>0.057292</td>\n",
       "    </tr>\n",
       "    <tr>\n",
       "      <th>bmi</th>\n",
       "      <td>0.198341</td>\n",
       "    </tr>\n",
       "    <tr>\n",
       "      <th>children</th>\n",
       "      <td>0.067998</td>\n",
       "    </tr>\n",
       "    <tr>\n",
       "      <th>smoker</th>\n",
       "      <td>0.787251</td>\n",
       "    </tr>\n",
       "    <tr>\n",
       "      <th>charges</th>\n",
       "      <td>1.000000</td>\n",
       "    </tr>\n",
       "    <tr>\n",
       "      <th>region_northeast</th>\n",
       "      <td>0.006349</td>\n",
       "    </tr>\n",
       "    <tr>\n",
       "      <th>region_northwest</th>\n",
       "      <td>-0.039905</td>\n",
       "    </tr>\n",
       "    <tr>\n",
       "      <th>region_southeast</th>\n",
       "      <td>0.073982</td>\n",
       "    </tr>\n",
       "    <tr>\n",
       "      <th>region_southwest</th>\n",
       "      <td>-0.043210</td>\n",
       "    </tr>\n",
       "  </tbody>\n",
       "</table>\n",
       "</div>"
      ],
      "text/plain": [
       "                   charges\n",
       "age               0.299008\n",
       "gender            0.057292\n",
       "bmi               0.198341\n",
       "children          0.067998\n",
       "smoker            0.787251\n",
       "charges           1.000000\n",
       "region_northeast  0.006349\n",
       "region_northwest -0.039905\n",
       "region_southeast  0.073982\n",
       "region_southwest -0.043210"
      ]
     },
     "execution_count": 33,
     "metadata": {},
     "output_type": "execute_result"
    }
   ],
   "source": [
    "df.corr()[['charges']]"
   ]
  },
  {
   "cell_type": "code",
   "execution_count": 34,
   "id": "128ac0c0",
   "metadata": {
    "scrolled": false
   },
   "outputs": [
    {
     "data": {
      "text/plain": [
       "<AxesSubplot:>"
      ]
     },
     "execution_count": 34,
     "metadata": {},
     "output_type": "execute_result"
    },
    {
     "data": {
      "image/png": "[encoded data removed]",
      "text/plain": [
       "<Figure size 200x800 with 2 Axes>"
      ]
     },
     "metadata": {},
     "output_type": "display_data"
    }
   ],
   "source": [
    "plt.figure(figsize = (2,8))\n",
    "sns.heatmap(df.corr()[['charges']], annot = True)"
   ]
  },
  {
   "cell_type": "markdown",
   "id": "d805f841",
   "metadata": {},
   "source": [
    "#### 2. VIF"
   ]
  },
  {
   "cell_type": "code",
   "execution_count": 37,
   "id": "8f2bf5ce",
   "metadata": {
    "scrolled": true
   },
   "outputs": [
    {
     "data": {
      "text/plain": [
       "Index(['age', 'gender', 'bmi', 'children', 'smoker', 'region_northeast',\n",
       "       'region_northwest', 'region_southeast', 'region_southwest'],\n",
       "      dtype='object')"
      ]
     },
     "execution_count": 37,
     "metadata": {},
     "output_type": "execute_result"
    }
   ],
   "source": [
    "x.columns"
   ]
  },
  {
   "cell_type": "code",
   "execution_count": 38,
   "id": "ef76fcb8",
   "metadata": {
    "scrolled": true
   },
   "outputs": [
    {
     "data": {
      "text/plain": [
       "1.0168221490038105"
      ]
     },
     "execution_count": 38,
     "metadata": {},
     "output_type": "execute_result"
    }
   ],
   "source": [
    "variance_inflation_factor(x.to_numpy(),0)"
   ]
  },
  {
   "cell_type": "code",
   "execution_count": 39,
   "id": "496c015f",
   "metadata": {
    "scrolled": true
   },
   "outputs": [
    {
     "data": {
      "text/plain": [
       "1.004010642137024"
      ]
     },
     "execution_count": 39,
     "metadata": {},
     "output_type": "execute_result"
    }
   ],
   "source": [
    "variance_inflation_factor(x.to_numpy(),3)"
   ]
  },
  {
   "cell_type": "code",
   "execution_count": 40,
   "id": "f3f14948",
   "metadata": {},
   "outputs": [
    {
     "data": {
      "text/plain": [
       "1.0089001621005735"
      ]
     },
     "execution_count": 40,
     "metadata": {},
     "output_type": "execute_result"
    }
   ],
   "source": [
    "variance_inflation_factor(x.to_numpy(),1)"
   ]
  },
  {
   "cell_type": "markdown",
   "id": "a20b5291",
   "metadata": {},
   "source": [
    "### Model Training"
   ]
  },
  {
   "cell_type": "code",
   "execution_count": 36,
   "id": "95d5dcf4",
   "metadata": {},
   "outputs": [],
   "source": [
    "x = df.drop('charges', axis = 1)\n",
    "\n",
    "y = df['charges']"
   ]
  },
  {
   "cell_type": "code",
   "execution_count": 41,
   "id": "04504cf2",
   "metadata": {},
   "outputs": [
    {
     "data": {
      "text/html": [
       "<div>\n",
       "<style scoped>\n",
       "    .dataframe tbody tr th:only-of-type {\n",
       "        vertical-align: middle;\n",
       "    }\n",
       "\n",
       "    .dataframe tbody tr th {\n",
       "        vertical-align: top;\n",
       "    }\n",
       "\n",
       "    .dataframe thead th {\n",
       "        text-align: right;\n",
       "    }\n",
       "</style>\n",
       "<table border=\"1\" class=\"dataframe\">\n",
       "  <thead>\n",
       "    <tr style=\"text-align: right;\">\n",
       "      <th></th>\n",
       "      <th>age</th>\n",
       "      <th>gender</th>\n",
       "      <th>bmi</th>\n",
       "      <th>children</th>\n",
       "      <th>smoker</th>\n",
       "      <th>region_northeast</th>\n",
       "      <th>region_northwest</th>\n",
       "      <th>region_southeast</th>\n",
       "      <th>region_southwest</th>\n",
       "    </tr>\n",
       "  </thead>\n",
       "  <tbody>\n",
       "    <tr>\n",
       "      <th>0</th>\n",
       "      <td>19</td>\n",
       "      <td>0</td>\n",
       "      <td>27.900</td>\n",
       "      <td>0</td>\n",
       "      <td>1</td>\n",
       "      <td>0</td>\n",
       "      <td>0</td>\n",
       "      <td>0</td>\n",
       "      <td>1</td>\n",
       "    </tr>\n",
       "    <tr>\n",
       "      <th>1</th>\n",
       "      <td>18</td>\n",
       "      <td>1</td>\n",
       "      <td>33.770</td>\n",
       "      <td>1</td>\n",
       "      <td>0</td>\n",
       "      <td>0</td>\n",
       "      <td>0</td>\n",
       "      <td>1</td>\n",
       "      <td>0</td>\n",
       "    </tr>\n",
       "    <tr>\n",
       "      <th>2</th>\n",
       "      <td>28</td>\n",
       "      <td>1</td>\n",
       "      <td>33.000</td>\n",
       "      <td>3</td>\n",
       "      <td>0</td>\n",
       "      <td>0</td>\n",
       "      <td>0</td>\n",
       "      <td>1</td>\n",
       "      <td>0</td>\n",
       "    </tr>\n",
       "    <tr>\n",
       "      <th>3</th>\n",
       "      <td>33</td>\n",
       "      <td>1</td>\n",
       "      <td>22.705</td>\n",
       "      <td>0</td>\n",
       "      <td>0</td>\n",
       "      <td>0</td>\n",
       "      <td>1</td>\n",
       "      <td>0</td>\n",
       "      <td>0</td>\n",
       "    </tr>\n",
       "    <tr>\n",
       "      <th>4</th>\n",
       "      <td>32</td>\n",
       "      <td>1</td>\n",
       "      <td>28.880</td>\n",
       "      <td>0</td>\n",
       "      <td>0</td>\n",
       "      <td>0</td>\n",
       "      <td>1</td>\n",
       "      <td>0</td>\n",
       "      <td>0</td>\n",
       "    </tr>\n",
       "    <tr>\n",
       "      <th>...</th>\n",
       "      <td>...</td>\n",
       "      <td>...</td>\n",
       "      <td>...</td>\n",
       "      <td>...</td>\n",
       "      <td>...</td>\n",
       "      <td>...</td>\n",
       "      <td>...</td>\n",
       "      <td>...</td>\n",
       "      <td>...</td>\n",
       "    </tr>\n",
       "    <tr>\n",
       "      <th>1333</th>\n",
       "      <td>50</td>\n",
       "      <td>1</td>\n",
       "      <td>30.970</td>\n",
       "      <td>3</td>\n",
       "      <td>0</td>\n",
       "      <td>0</td>\n",
       "      <td>1</td>\n",
       "      <td>0</td>\n",
       "      <td>0</td>\n",
       "    </tr>\n",
       "    <tr>\n",
       "      <th>1334</th>\n",
       "      <td>18</td>\n",
       "      <td>0</td>\n",
       "      <td>31.920</td>\n",
       "      <td>0</td>\n",
       "      <td>0</td>\n",
       "      <td>1</td>\n",
       "      <td>0</td>\n",
       "      <td>0</td>\n",
       "      <td>0</td>\n",
       "    </tr>\n",
       "    <tr>\n",
       "      <th>1335</th>\n",
       "      <td>18</td>\n",
       "      <td>0</td>\n",
       "      <td>36.850</td>\n",
       "      <td>0</td>\n",
       "      <td>0</td>\n",
       "      <td>0</td>\n",
       "      <td>0</td>\n",
       "      <td>1</td>\n",
       "      <td>0</td>\n",
       "    </tr>\n",
       "    <tr>\n",
       "      <th>1336</th>\n",
       "      <td>21</td>\n",
       "      <td>0</td>\n",
       "      <td>25.800</td>\n",
       "      <td>0</td>\n",
       "      <td>0</td>\n",
       "      <td>0</td>\n",
       "      <td>0</td>\n",
       "      <td>0</td>\n",
       "      <td>1</td>\n",
       "    </tr>\n",
       "    <tr>\n",
       "      <th>1337</th>\n",
       "      <td>61</td>\n",
       "      <td>0</td>\n",
       "      <td>29.070</td>\n",
       "      <td>0</td>\n",
       "      <td>1</td>\n",
       "      <td>0</td>\n",
       "      <td>1</td>\n",
       "      <td>0</td>\n",
       "      <td>0</td>\n",
       "    </tr>\n",
       "  </tbody>\n",
       "</table>\n",
       "<p>1338 rows × 9 columns</p>\n",
       "</div>"
      ],
      "text/plain": [
       "      age  gender     bmi  children  smoker  region_northeast  \\\n",
       "0      19       0  27.900         0       1                 0   \n",
       "1      18       1  33.770         1       0                 0   \n",
       "2      28       1  33.000         3       0                 0   \n",
       "3      33       1  22.705         0       0                 0   \n",
       "4      32       1  28.880         0       0                 0   \n",
       "...   ...     ...     ...       ...     ...               ...   \n",
       "1333   50       1  30.970         3       0                 0   \n",
       "1334   18       0  31.920         0       0                 1   \n",
       "1335   18       0  36.850         0       0                 0   \n",
       "1336   21       0  25.800         0       0                 0   \n",
       "1337   61       0  29.070         0       1                 0   \n",
       "\n",
       "      region_northwest  region_southeast  region_southwest  \n",
       "0                    0                 0                 1  \n",
       "1                    0                 1                 0  \n",
       "2                    0                 1                 0  \n",
       "3                    1                 0                 0  \n",
       "4                    1                 0                 0  \n",
       "...                ...               ...               ...  \n",
       "1333                 1                 0                 0  \n",
       "1334                 0                 0                 0  \n",
       "1335                 0                 1                 0  \n",
       "1336                 0                 0                 1  \n",
       "1337                 1                 0                 0  \n",
       "\n",
       "[1338 rows x 9 columns]"
      ]
     },
     "execution_count": 41,
     "metadata": {},
     "output_type": "execute_result"
    }
   ],
   "source": [
    "x"
   ]
  },
  {
   "cell_type": "code",
   "execution_count": 42,
   "id": "dd174fb7",
   "metadata": {
    "scrolled": true
   },
   "outputs": [
    {
     "data": {
      "text/plain": [
       "0       16884.92400\n",
       "1        1725.55230\n",
       "2        4449.46200\n",
       "3       21984.47061\n",
       "4        3866.85520\n",
       "           ...     \n",
       "1333    10600.54830\n",
       "1334     2205.98080\n",
       "1335     1629.83350\n",
       "1336     2007.94500\n",
       "1337    29141.36030\n",
       "Name: charges, Length: 1338, dtype: float64"
      ]
     },
     "execution_count": 42,
     "metadata": {},
     "output_type": "execute_result"
    }
   ],
   "source": [
    "y"
   ]
  },
  {
   "cell_type": "code",
   "execution_count": null,
   "id": "43c69840",
   "metadata": {},
   "outputs": [],
   "source": []
  },
  {
   "cell_type": "code",
   "execution_count": 43,
   "id": "b2dd833b",
   "metadata": {},
   "outputs": [],
   "source": [
    "x_train,x_test,y_train,y_test = train_test_split(x,y, test_size = 0.2, random_state = 13)"
   ]
  },
  {
   "cell_type": "code",
   "execution_count": 44,
   "id": "bfa30443",
   "metadata": {
    "scrolled": true
   },
   "outputs": [
    {
     "data": {
      "text/html": [
       "<div>\n",
       "<style scoped>\n",
       "    .dataframe tbody tr th:only-of-type {\n",
       "        vertical-align: middle;\n",
       "    }\n",
       "\n",
       "    .dataframe tbody tr th {\n",
       "        vertical-align: top;\n",
       "    }\n",
       "\n",
       "    .dataframe thead th {\n",
       "        text-align: right;\n",
       "    }\n",
       "</style>\n",
       "<table border=\"1\" class=\"dataframe\">\n",
       "  <thead>\n",
       "    <tr style=\"text-align: right;\">\n",
       "      <th></th>\n",
       "      <th>age</th>\n",
       "      <th>gender</th>\n",
       "      <th>bmi</th>\n",
       "      <th>children</th>\n",
       "      <th>smoker</th>\n",
       "      <th>region_northeast</th>\n",
       "      <th>region_northwest</th>\n",
       "      <th>region_southeast</th>\n",
       "      <th>region_southwest</th>\n",
       "    </tr>\n",
       "  </thead>\n",
       "  <tbody>\n",
       "    <tr>\n",
       "      <th>291</th>\n",
       "      <td>29</td>\n",
       "      <td>1</td>\n",
       "      <td>29.640</td>\n",
       "      <td>1</td>\n",
       "      <td>0</td>\n",
       "      <td>1</td>\n",
       "      <td>0</td>\n",
       "      <td>0</td>\n",
       "      <td>0</td>\n",
       "    </tr>\n",
       "    <tr>\n",
       "      <th>671</th>\n",
       "      <td>29</td>\n",
       "      <td>0</td>\n",
       "      <td>31.160</td>\n",
       "      <td>0</td>\n",
       "      <td>0</td>\n",
       "      <td>1</td>\n",
       "      <td>0</td>\n",
       "      <td>0</td>\n",
       "      <td>0</td>\n",
       "    </tr>\n",
       "    <tr>\n",
       "      <th>836</th>\n",
       "      <td>36</td>\n",
       "      <td>1</td>\n",
       "      <td>31.500</td>\n",
       "      <td>0</td>\n",
       "      <td>0</td>\n",
       "      <td>0</td>\n",
       "      <td>0</td>\n",
       "      <td>0</td>\n",
       "      <td>1</td>\n",
       "    </tr>\n",
       "    <tr>\n",
       "      <th>231</th>\n",
       "      <td>59</td>\n",
       "      <td>0</td>\n",
       "      <td>27.830</td>\n",
       "      <td>3</td>\n",
       "      <td>0</td>\n",
       "      <td>0</td>\n",
       "      <td>0</td>\n",
       "      <td>1</td>\n",
       "      <td>0</td>\n",
       "    </tr>\n",
       "    <tr>\n",
       "      <th>1100</th>\n",
       "      <td>33</td>\n",
       "      <td>0</td>\n",
       "      <td>19.095</td>\n",
       "      <td>2</td>\n",
       "      <td>1</td>\n",
       "      <td>1</td>\n",
       "      <td>0</td>\n",
       "      <td>0</td>\n",
       "      <td>0</td>\n",
       "    </tr>\n",
       "    <tr>\n",
       "      <th>...</th>\n",
       "      <td>...</td>\n",
       "      <td>...</td>\n",
       "      <td>...</td>\n",
       "      <td>...</td>\n",
       "      <td>...</td>\n",
       "      <td>...</td>\n",
       "      <td>...</td>\n",
       "      <td>...</td>\n",
       "      <td>...</td>\n",
       "    </tr>\n",
       "    <tr>\n",
       "      <th>866</th>\n",
       "      <td>18</td>\n",
       "      <td>1</td>\n",
       "      <td>37.290</td>\n",
       "      <td>0</td>\n",
       "      <td>0</td>\n",
       "      <td>0</td>\n",
       "      <td>0</td>\n",
       "      <td>1</td>\n",
       "      <td>0</td>\n",
       "    </tr>\n",
       "    <tr>\n",
       "      <th>742</th>\n",
       "      <td>53</td>\n",
       "      <td>1</td>\n",
       "      <td>34.105</td>\n",
       "      <td>0</td>\n",
       "      <td>1</td>\n",
       "      <td>1</td>\n",
       "      <td>0</td>\n",
       "      <td>0</td>\n",
       "      <td>0</td>\n",
       "    </tr>\n",
       "    <tr>\n",
       "      <th>74</th>\n",
       "      <td>44</td>\n",
       "      <td>1</td>\n",
       "      <td>27.400</td>\n",
       "      <td>2</td>\n",
       "      <td>0</td>\n",
       "      <td>0</td>\n",
       "      <td>0</td>\n",
       "      <td>0</td>\n",
       "      <td>1</td>\n",
       "    </tr>\n",
       "    <tr>\n",
       "      <th>176</th>\n",
       "      <td>38</td>\n",
       "      <td>1</td>\n",
       "      <td>27.835</td>\n",
       "      <td>2</td>\n",
       "      <td>0</td>\n",
       "      <td>0</td>\n",
       "      <td>1</td>\n",
       "      <td>0</td>\n",
       "      <td>0</td>\n",
       "    </tr>\n",
       "    <tr>\n",
       "      <th>338</th>\n",
       "      <td>50</td>\n",
       "      <td>1</td>\n",
       "      <td>32.300</td>\n",
       "      <td>1</td>\n",
       "      <td>1</td>\n",
       "      <td>1</td>\n",
       "      <td>0</td>\n",
       "      <td>0</td>\n",
       "      <td>0</td>\n",
       "    </tr>\n",
       "  </tbody>\n",
       "</table>\n",
       "<p>1070 rows × 9 columns</p>\n",
       "</div>"
      ],
      "text/plain": [
       "      age  gender     bmi  children  smoker  region_northeast  \\\n",
       "291    29       1  29.640         1       0                 1   \n",
       "671    29       0  31.160         0       0                 1   \n",
       "836    36       1  31.500         0       0                 0   \n",
       "231    59       0  27.830         3       0                 0   \n",
       "1100   33       0  19.095         2       1                 1   \n",
       "...   ...     ...     ...       ...     ...               ...   \n",
       "866    18       1  37.290         0       0                 0   \n",
       "742    53       1  34.105         0       1                 1   \n",
       "74     44       1  27.400         2       0                 0   \n",
       "176    38       1  27.835         2       0                 0   \n",
       "338    50       1  32.300         1       1                 1   \n",
       "\n",
       "      region_northwest  region_southeast  region_southwest  \n",
       "291                  0                 0                 0  \n",
       "671                  0                 0                 0  \n",
       "836                  0                 0                 1  \n",
       "231                  0                 1                 0  \n",
       "1100                 0                 0                 0  \n",
       "...                ...               ...               ...  \n",
       "866                  0                 1                 0  \n",
       "742                  0                 0                 0  \n",
       "74                   0                 0                 1  \n",
       "176                  1                 0                 0  \n",
       "338                  0                 0                 0  \n",
       "\n",
       "[1070 rows x 9 columns]"
      ]
     },
     "execution_count": 44,
     "metadata": {},
     "output_type": "execute_result"
    }
   ],
   "source": [
    "x_train"
   ]
  },
  {
   "cell_type": "code",
   "execution_count": 45,
   "id": "657f20d5",
   "metadata": {},
   "outputs": [
    {
     "data": {
      "text/plain": [
       "291     20277.80751\n",
       "671      3943.59540\n",
       "836      4402.23300\n",
       "231     14001.28670\n",
       "1100    16776.30405\n",
       "           ...     \n",
       "866      1141.44510\n",
       "742     43254.41795\n",
       "74       7726.85400\n",
       "176      6455.86265\n",
       "338     41919.09700\n",
       "Name: charges, Length: 1070, dtype: float64"
      ]
     },
     "execution_count": 45,
     "metadata": {},
     "output_type": "execute_result"
    }
   ],
   "source": [
    "y_train"
   ]
  },
  {
   "cell_type": "code",
   "execution_count": 46,
   "id": "daf4760c",
   "metadata": {},
   "outputs": [
    {
     "data": {
      "text/plain": [
       "LinearRegression()"
      ]
     },
     "execution_count": 46,
     "metadata": {},
     "output_type": "execute_result"
    }
   ],
   "source": [
    "linear_reg = LinearRegression()\n",
    "linear_reg.fit(x_train, y_train)"
   ]
  },
  {
   "cell_type": "markdown",
   "id": "cbc9f40a",
   "metadata": {},
   "source": [
    "### 6. Model Evaluation"
   ]
  },
  {
   "cell_type": "code",
   "execution_count": 47,
   "id": "f39a1a62",
   "metadata": {},
   "outputs": [
    {
     "data": {
      "text/plain": [
       "array([ 3600.84757824, 10353.60606981,  7247.53040669,  6661.27764925,\n",
       "        2543.96751265, 16353.71187466, 13658.07752938,  5407.47201226,\n",
       "       32184.48705221, 28661.81941062,  9181.95449826, 10326.60596382,\n",
       "        3468.81409881,  6390.60700372,  7406.40170852,  7216.07431951,\n",
       "       33337.21850759, 30435.99649089, 15041.78017196,   417.66188896,\n",
       "        7706.74587818,  5550.53832266, 28454.75485623, 14792.61767992,\n",
       "       40437.05958329, 28379.04013371, 33719.22121508,  2895.81735814,\n",
       "       10898.08517778, 15444.68848735, 12219.88584049, 28664.5614591 ,\n",
       "        2924.27600095,  7471.7696333 , 37473.40435954, 26924.3359047 ,\n",
       "        6674.21708208, 11622.9167336 , 35962.88120372,  4728.00587943,\n",
       "        8580.14434213, 18458.94344207, 10430.78103491,  8618.62862778,\n",
       "         965.43255995,  5947.80201163, 15768.93345927,  5863.38473425,\n",
       "        2336.3259301 , 10569.92039868, 32666.28905913, 33926.58292985,\n",
       "        7721.41769839,  9953.79415389, 14294.27378064,  5491.85515848,\n",
       "        7865.05089079, 34149.10329472, 17446.15793462,  3434.82768181,\n",
       "        6431.52794561, 31154.86627476,  7761.80961274, 28887.32441429,\n",
       "       13668.86793708,  5808.84363199, 29299.92199042, 13982.48038187,\n",
       "        5000.82987271, 11771.33870282,  8769.53370216,  8883.38060231,\n",
       "        9836.47872083,  3166.81624518, 16255.16226399,  7987.61022509,\n",
       "        7157.0838894 ,  2320.58172557, 31265.36927289, 10796.40172281,\n",
       "        1897.27286683,  9761.70947692, 12770.78761639, 19645.86060511,\n",
       "       12072.02985425,  1381.40488039, 16075.59315599, 11593.99852375,\n",
       "        2146.70735533,  6034.51837195,  9129.58726229,  1997.21817181,\n",
       "         -99.76365371, 31899.52472176, 14434.42175566, 10259.60092028,\n",
       "         150.15507614, 38337.70115306,  1065.60707968, 11633.86900322,\n",
       "        3061.01411745, 10363.31407783,  4549.75975518,  8787.9020726 ,\n",
       "        7443.14692938,  9761.21355075, 30145.1002013 , 28717.77153914,\n",
       "       39348.57892905, 10034.34506104,  4019.04435016, 14439.27528497,\n",
       "       36860.70447759,  1532.82882041, 35318.89724264, 23744.19508337,\n",
       "        7110.98813672,  4022.93924452, 10511.6775275 ,  6233.75690927,\n",
       "        8103.02386872, 14892.38120599, 34871.4708119 , 11985.55151054,\n",
       "       14768.0842619 , 29292.41440296, 10891.47951126,  3404.26115446,\n",
       "        9895.67111063, 11969.54900235,  3611.45028108,  9343.46925052,\n",
       "        4722.95564086, 33602.11470098, 26258.61659561,   907.63125138,\n",
       "        9504.39542236,  3172.70278947,  3674.7399777 ,  9805.05631204,\n",
       "        9388.33704071, 15507.20667452, 25255.41771434, 11339.34894384,\n",
       "        9794.79397298, 15122.38897402,  6674.74515072,  8320.60738734,\n",
       "        7906.80993542, 25376.95398087, 33309.79787943,  2223.59184673,\n",
       "         388.51283824, 23327.15365567, 39067.65867561, 31100.97848963,\n",
       "       30825.66206085, 10876.97477462,  4635.69866359,  7137.68974586,\n",
       "       10389.37152905, 10979.91167799, 11372.59624494, 11545.97691622,\n",
       "        3095.3769905 ,  1484.85207072,  7261.34943264, 29859.30226943,\n",
       "       15366.24840083,  7397.18691261, 32751.47200008,   737.98977777,\n",
       "       29178.09210742,  3051.08293915, 10588.07485126,  6203.11228665,\n",
       "        9996.32173004,  3814.80791284, 14280.3447873 , 27359.74398101,\n",
       "        6463.29698615,  4240.95959668,  6013.24493748, 13650.17012772,\n",
       "        2051.20441892,  2280.55756964,  8491.08814535,  1664.6503777 ,\n",
       "       10162.83051596, 33349.97573983, 31978.18164616,  7532.83291807,\n",
       "       36383.68101116, 10739.11309932,  4060.26649243, 25311.54506766,\n",
       "       34146.37232294,  5877.42068476, 32025.97069098,  7746.69222144,\n",
       "        9145.64790423,  1501.18865895,  3575.77675249, 10921.8134759 ,\n",
       "        2564.77011319,  5736.59840127,  7406.51219735,  6774.28824369,\n",
       "        9874.78546351, 13211.40150944,  9970.28839993,  2281.8506259 ,\n",
       "        8510.94722488, 15029.62808609,  4077.80593513,  7270.30246841,\n",
       "       10111.10171894,  6398.98293692, 13099.60579633, 32186.92413715,\n",
       "       30214.15523448,  2374.40517988, 39103.70195483,  9679.72927223,\n",
       "        9543.33150374,  -351.89145118, 37178.61231946,  7228.02927443,\n",
       "       17280.29532596,  8354.49784368,  4721.28666874,  6807.48656951,\n",
       "        3984.88738939,  7570.94515069, 26663.96713092,    87.84102371,\n",
       "       37683.65828336, 10493.75286318, 17803.98832768, 15826.9279935 ,\n",
       "        8321.95963943, 14142.67095295, 17418.3238463 ,  7197.52428867,\n",
       "       41046.57302211,  6486.64222896, 14709.65590083,  5511.70222693,\n",
       "        2293.32948115,  6535.03674566, 28245.97983561, 13510.2405135 ,\n",
       "       13717.83235781,  3172.71079506, 13569.46890815, 15138.78045122,\n",
       "        9173.30401512,  8092.41824662, 17202.12524369, 13116.40799682,\n",
       "        8065.01428642, 38913.46159374,  6142.48164708, 12934.66245328,\n",
       "       12950.73163803, 17174.18968671,  8607.83822007,  3958.95998664])"
      ]
     },
     "execution_count": 47,
     "metadata": {},
     "output_type": "execute_result"
    }
   ],
   "source": [
    "y_pred = linear_reg.predict(x_test)\n",
    "y_pred"
   ]
  },
  {
   "cell_type": "code",
   "execution_count": 48,
   "id": "8e0adcda",
   "metadata": {
    "scrolled": true
   },
   "outputs": [
    {
     "data": {
      "text/plain": [
       "1132    20709.02034\n",
       "33      13770.09790\n",
       "898      1634.57340\n",
       "819     55135.40209\n",
       "1021    35595.58980\n",
       "Name: charges, dtype: float64"
      ]
     },
     "execution_count": 48,
     "metadata": {},
     "output_type": "execute_result"
    }
   ],
   "source": [
    "y_test[5:10]"
   ]
  },
  {
   "cell_type": "code",
   "execution_count": 49,
   "id": "d09deff0",
   "metadata": {
    "scrolled": true
   },
   "outputs": [
    {
     "data": {
      "text/plain": [
       "array([16353.71187466, 13658.07752938,  5407.47201226, 32184.48705221,\n",
       "       28661.81941062])"
      ]
     },
     "execution_count": 49,
     "metadata": {},
     "output_type": "execute_result"
    }
   ],
   "source": [
    "y_pred[5:10]"
   ]
  },
  {
   "cell_type": "code",
   "execution_count": 50,
   "id": "4349afe4",
   "metadata": {
    "scrolled": true
   },
   "outputs": [
    {
     "data": {
      "text/plain": [
       "200    -1470.171678\n",
       "350     1477.001130\n",
       "226    -4558.035007\n",
       "709    -1192.271049\n",
       "293     -387.215713\n",
       "           ...     \n",
       "287     1321.530347\n",
       "433     -312.536638\n",
       "66     -2939.117687\n",
       "1185      -4.014820\n",
       "1276   -1217.011987\n",
       "Name: charges, Length: 268, dtype: float64"
      ]
     },
     "execution_count": 50,
     "metadata": {},
     "output_type": "execute_result"
    }
   ],
   "source": [
    "residual = y_test - y_pred\n",
    "residual"
   ]
  },
  {
   "cell_type": "markdown",
   "id": "090a8818",
   "metadata": {},
   "source": [
    "### Normality of Residuals"
   ]
  },
  {
   "cell_type": "markdown",
   "id": "c57e604d",
   "metadata": {},
   "source": [
    "### 1. visualization"
   ]
  },
  {
   "cell_type": "markdown",
   "id": "a55c9d61",
   "metadata": {},
   "source": [
    "##### 1.1 kdeplot"
   ]
  },
  {
   "cell_type": "code",
   "execution_count": 51,
   "id": "94eba948",
   "metadata": {
    "scrolled": false
   },
   "outputs": [
    {
     "data": {
      "text/plain": [
       "<AxesSubplot:xlabel='charges', ylabel='Density'>"
      ]
     },
     "execution_count": 51,
     "metadata": {},
     "output_type": "execute_result"
    },
    {
     "data": {
      "image/png": "[encoded data removed]",
      "text/plain": [
       "<Figure size 640x480 with 1 Axes>"
      ]
     },
     "metadata": {},
     "output_type": "display_data"
    }
   ],
   "source": [
    "sns.kdeplot(residual, fill = True)"
   ]
  },
  {
   "cell_type": "markdown",
   "id": "d7c397a7",
   "metadata": {},
   "source": [
    "##### 1.2 histplot"
   ]
  },
  {
   "cell_type": "code",
   "execution_count": 52,
   "id": "ea040d96",
   "metadata": {},
   "outputs": [
    {
     "data": {
      "text/plain": [
       "<AxesSubplot:xlabel='charges', ylabel='Count'>"
      ]
     },
     "execution_count": 52,
     "metadata": {},
     "output_type": "execute_result"
    },
    {
     "data": {
      "image/png": "[encoded data removed]",
      "text/plain": [
       "<Figure size 640x480 with 1 Axes>"
      ]
     },
     "metadata": {},
     "output_type": "display_data"
    }
   ],
   "source": [
    "sns.histplot(residual)"
   ]
  },
  {
   "cell_type": "markdown",
   "id": "600c2ecc",
   "metadata": {},
   "source": [
    "### 2. QQ plot"
   ]
  },
  {
   "cell_type": "code",
   "execution_count": 53,
   "id": "8fd7588f",
   "metadata": {},
   "outputs": [],
   "source": [
    "import statsmodels.api as sm"
   ]
  },
  {
   "cell_type": "code",
   "execution_count": 54,
   "id": "6ea92626",
   "metadata": {
    "scrolled": false
   },
   "outputs": [
    {
     "data": {
      "image/png": "[encoded data removed]",
      "text/plain": [
       "<Figure size 640x480 with 1 Axes>"
      ]
     },
     "metadata": {},
     "output_type": "display_data"
    }
   ],
   "source": [
    "sm.qqplot(residual, line ='45', fit = True)\n",
    "plt.show()"
   ]
  },
  {
   "cell_type": "markdown",
   "id": "036c1149",
   "metadata": {},
   "source": [
    "### 3. Hypothesis Testing"
   ]
  },
  {
   "cell_type": "markdown",
   "id": "b83628e1",
   "metadata": {},
   "source": [
    "#### 3.1 Shapiro"
   ]
  },
  {
   "cell_type": "code",
   "execution_count": 55,
   "id": "499065f9",
   "metadata": {},
   "outputs": [],
   "source": [
    "from scipy.stats import shapiro"
   ]
  },
  {
   "cell_type": "code",
   "execution_count": 56,
   "id": "8abf0efc",
   "metadata": {},
   "outputs": [
    {
     "name": "stdout",
     "output_type": "stream",
     "text": [
      "P Value is : 1.0738407558996688e-11\n",
      "Data is not normally distributed\n",
      "Alternate Hypothesis is True\n"
     ]
    }
   ],
   "source": [
    "_, p_val = shapiro(residual)\n",
    "print(\"P Value is :\", p_val)\n",
    "\n",
    "if p_val >= 0.05:\n",
    "    print(\"Data is normally distributed\")\n",
    "    print(\"NULL Hypothesis is True\")\n",
    "    \n",
    "else:\n",
    "    print(\"Data is not normally distributed\")\n",
    "    print(\"Alternate Hypothesis is True\")"
   ]
  },
  {
   "cell_type": "markdown",
   "id": "ab72b919",
   "metadata": {},
   "source": [
    "#### 3.2 Kstest"
   ]
  },
  {
   "cell_type": "code",
   "execution_count": 57,
   "id": "7dc5e7e1",
   "metadata": {},
   "outputs": [],
   "source": [
    "from scipy.stats import kstest"
   ]
  },
  {
   "cell_type": "code",
   "execution_count": 58,
   "id": "c99bf98e",
   "metadata": {
    "scrolled": true
   },
   "outputs": [
    {
     "name": "stdout",
     "output_type": "stream",
     "text": [
      "P Value is : 8.439722149355793e-117\n",
      "Data is not normally distributed\n",
      "Alternate Hypothesis is True\n"
     ]
    }
   ],
   "source": [
    "_, p_val = kstest(residual, 'norm')\n",
    "print(\"P Value is :\", p_val)\n",
    "\n",
    "if p_val >= 0.05:\n",
    "    print(\"Data is normally distributed\")\n",
    "    print(\"NULL Hypothesis is True\")\n",
    "    \n",
    "else:\n",
    "    print(\"Data is not normally distributed\")\n",
    "    print(\"Alternate Hypothesis is True\")"
   ]
  },
  {
   "cell_type": "markdown",
   "id": "8b9e24cc",
   "metadata": {},
   "source": [
    "### 4. Homoscedascticity"
   ]
  },
  {
   "cell_type": "code",
   "execution_count": 59,
   "id": "79992000",
   "metadata": {
    "scrolled": true
   },
   "outputs": [
    {
     "data": {
      "text/plain": [
       "291     20277.80751\n",
       "671      3943.59540\n",
       "836      4402.23300\n",
       "231     14001.28670\n",
       "1100    16776.30405\n",
       "           ...     \n",
       "866      1141.44510\n",
       "742     43254.41795\n",
       "74       7726.85400\n",
       "176      6455.86265\n",
       "338     41919.09700\n",
       "Name: charges, Length: 1070, dtype: float64"
      ]
     },
     "execution_count": 59,
     "metadata": {},
     "output_type": "execute_result"
    }
   ],
   "source": [
    "y_train"
   ]
  },
  {
   "cell_type": "code",
   "execution_count": 63,
   "id": "9a2ba125",
   "metadata": {
    "scrolled": true
   },
   "outputs": [
    {
     "data": {
      "text/plain": [
       "291     14242.590203\n",
       "671     -2077.983539\n",
       "836     -2716.043942\n",
       "231       702.067075\n",
       "1100   -11018.850728\n",
       "            ...     \n",
       "866     -3266.959590\n",
       "742      6221.931234\n",
       "74      -1095.560598\n",
       "176     -1636.215233\n",
       "338      5755.046809\n",
       "Name: charges, Length: 1070, dtype: float64"
      ]
     },
     "execution_count": 63,
     "metadata": {},
     "output_type": "execute_result"
    }
   ],
   "source": [
    "residual_train = y_train - y_pred_train\n",
    "residual_train"
   ]
  },
  {
   "cell_type": "code",
   "execution_count": 64,
   "id": "45590260",
   "metadata": {},
   "outputs": [
    {
     "data": {
      "image/png": "[encoded data removed]",
      "text/plain": [
       "<Figure size 640x480 with 1 Axes>"
      ]
     },
     "metadata": {},
     "output_type": "display_data"
    }
   ],
   "source": [
    "sns.scatterplot(x = y_train, y = residual_train)\n",
    "plt.xlabel('Y Actual')\n",
    "plt.ylabel(\"Residal\")\n",
    "plt.title(\"Yactual vs Residual Plot\")\n",
    "plt.savefig(\"Homoscedasticity.png\")"
   ]
  },
  {
   "cell_type": "code",
   "execution_count": 61,
   "id": "aef77320",
   "metadata": {},
   "outputs": [
    {
     "name": "stdout",
     "output_type": "stream",
     "text": [
      "MSE :  28560666.713329997\n",
      "RMSE :  5344.218063789126\n",
      "MAE :  3820.7706849786387\n",
      "R-Squared : 0.7990637930035749\n"
     ]
    }
   ],
   "source": [
    "# testing data evaluation\n",
    "\n",
    "mse = mean_squared_error(y_test, y_pred)\n",
    "print(\"MSE : \", mse)\n",
    "\n",
    "rmse = np.sqrt(mse)\n",
    "print(\"RMSE : \", rmse)\n",
    "\n",
    "mae = mean_absolute_error(y_test , y_pred)\n",
    "print(\"MAE : \", mae)\n",
    "\n",
    "r2_value = r2_score(y_test , y_pred)\n",
    "print(\"R-Squared :\",r2_value)"
   ]
  },
  {
   "cell_type": "code",
   "execution_count": 62,
   "id": "48de76ba",
   "metadata": {},
   "outputs": [],
   "source": [
    "y_pred_train = linear_reg.predict(x_train)"
   ]
  },
  {
   "cell_type": "code",
   "execution_count": 65,
   "id": "db1b57d4",
   "metadata": {
    "scrolled": true
   },
   "outputs": [
    {
     "name": "stdout",
     "output_type": "stream",
     "text": [
      "MSE :  38548913.01313226\n",
      "RMSE :  6208.777094817647\n",
      "MAE :  4333.6969516595445\n",
      "R-Squared : 0.7385339139130735\n"
     ]
    }
   ],
   "source": [
    "# testing data evaluation\n",
    "\n",
    "mse = mean_squared_error(y_train, y_pred_train)\n",
    "print(\"MSE : \", mse)\n",
    "\n",
    "rmse = np.sqrt(mse)\n",
    "print(\"RMSE : \", rmse)\n",
    "\n",
    "mae = mean_absolute_error(y_train, y_pred_train)\n",
    "print(\"MAE : \", mae)\n",
    "\n",
    "r2_value = r2_score(y_train, y_pred_train)\n",
    "print(\"R-Squared :\",r2_value)"
   ]
  },
  {
   "cell_type": "code",
   "execution_count": 66,
   "id": "f3acd8ba",
   "metadata": {},
   "outputs": [
    {
     "data": {
      "text/html": [
       "<div>\n",
       "<style scoped>\n",
       "    .dataframe tbody tr th:only-of-type {\n",
       "        vertical-align: middle;\n",
       "    }\n",
       "\n",
       "    .dataframe tbody tr th {\n",
       "        vertical-align: top;\n",
       "    }\n",
       "\n",
       "    .dataframe thead th {\n",
       "        text-align: right;\n",
       "    }\n",
       "</style>\n",
       "<table border=\"1\" class=\"dataframe\">\n",
       "  <thead>\n",
       "    <tr style=\"text-align: right;\">\n",
       "      <th></th>\n",
       "      <th>0</th>\n",
       "    </tr>\n",
       "  </thead>\n",
       "  <tbody>\n",
       "    <tr>\n",
       "      <th>age</th>\n",
       "      <td>19.000</td>\n",
       "    </tr>\n",
       "    <tr>\n",
       "      <th>gender</th>\n",
       "      <td>0.000</td>\n",
       "    </tr>\n",
       "    <tr>\n",
       "      <th>bmi</th>\n",
       "      <td>27.900</td>\n",
       "    </tr>\n",
       "    <tr>\n",
       "      <th>children</th>\n",
       "      <td>0.000</td>\n",
       "    </tr>\n",
       "    <tr>\n",
       "      <th>smoker</th>\n",
       "      <td>1.000</td>\n",
       "    </tr>\n",
       "    <tr>\n",
       "      <th>charges</th>\n",
       "      <td>16884.924</td>\n",
       "    </tr>\n",
       "    <tr>\n",
       "      <th>region_northeast</th>\n",
       "      <td>0.000</td>\n",
       "    </tr>\n",
       "    <tr>\n",
       "      <th>region_northwest</th>\n",
       "      <td>0.000</td>\n",
       "    </tr>\n",
       "    <tr>\n",
       "      <th>region_southeast</th>\n",
       "      <td>0.000</td>\n",
       "    </tr>\n",
       "    <tr>\n",
       "      <th>region_southwest</th>\n",
       "      <td>1.000</td>\n",
       "    </tr>\n",
       "  </tbody>\n",
       "</table>\n",
       "</div>"
      ],
      "text/plain": [
       "                          0\n",
       "age                  19.000\n",
       "gender                0.000\n",
       "bmi                  27.900\n",
       "children              0.000\n",
       "smoker                1.000\n",
       "charges           16884.924\n",
       "region_northeast      0.000\n",
       "region_northwest      0.000\n",
       "region_southeast      0.000\n",
       "region_southwest      1.000"
      ]
     },
     "execution_count": 66,
     "metadata": {},
     "output_type": "execute_result"
    }
   ],
   "source": [
    "df.head(1).T"
   ]
  },
  {
   "cell_type": "markdown",
   "id": "7eb3ce84",
   "metadata": {},
   "source": [
    "### Single Row Testing"
   ]
  },
  {
   "cell_type": "code",
   "execution_count": 67,
   "id": "a30973b1",
   "metadata": {
    "scrolled": false
   },
   "outputs": [
    {
     "data": {
      "text/html": [
       "<div>\n",
       "<style scoped>\n",
       "    .dataframe tbody tr th:only-of-type {\n",
       "        vertical-align: middle;\n",
       "    }\n",
       "\n",
       "    .dataframe tbody tr th {\n",
       "        vertical-align: top;\n",
       "    }\n",
       "\n",
       "    .dataframe thead th {\n",
       "        text-align: right;\n",
       "    }\n",
       "</style>\n",
       "<table border=\"1\" class=\"dataframe\">\n",
       "  <thead>\n",
       "    <tr style=\"text-align: right;\">\n",
       "      <th></th>\n",
       "      <th>age</th>\n",
       "      <th>gender</th>\n",
       "      <th>bmi</th>\n",
       "      <th>children</th>\n",
       "      <th>smoker</th>\n",
       "      <th>region_northeast</th>\n",
       "      <th>region_northwest</th>\n",
       "      <th>region_southeast</th>\n",
       "      <th>region_southwest</th>\n",
       "    </tr>\n",
       "  </thead>\n",
       "  <tbody>\n",
       "    <tr>\n",
       "      <th>253</th>\n",
       "      <td>27</td>\n",
       "      <td>1</td>\n",
       "      <td>30.3</td>\n",
       "      <td>3</td>\n",
       "      <td>0</td>\n",
       "      <td>0</td>\n",
       "      <td>0</td>\n",
       "      <td>0</td>\n",
       "      <td>1</td>\n",
       "    </tr>\n",
       "  </tbody>\n",
       "</table>\n",
       "</div>"
      ],
      "text/plain": [
       "     age  gender   bmi  children  smoker  region_northeast  region_northwest  \\\n",
       "253   27       1  30.3         3       0                 0                 0   \n",
       "\n",
       "     region_southeast  region_southwest  \n",
       "253                 0                 1  "
      ]
     },
     "execution_count": 67,
     "metadata": {},
     "output_type": "execute_result"
    }
   ],
   "source": [
    "x_test[45:46]"
   ]
  },
  {
   "cell_type": "code",
   "execution_count": 68,
   "id": "6c9aa3c2",
   "metadata": {},
   "outputs": [
    {
     "data": {
      "text/plain": [
       "5947.802011631362"
      ]
     },
     "execution_count": 68,
     "metadata": {},
     "output_type": "execute_result"
    }
   ],
   "source": [
    "linear_reg.predict(x_test[45:46])[0]"
   ]
  },
  {
   "cell_type": "code",
   "execution_count": 69,
   "id": "42fe63ba",
   "metadata": {},
   "outputs": [],
   "source": [
    "age = 29\n",
    "gender = 'male'\n",
    "bmi = 28.265\n",
    "children = 2\n",
    "smoker = 'yes'\n",
    "region = 'southeast'"
   ]
  },
  {
   "cell_type": "code",
   "execution_count": null,
   "id": "dd22ceac",
   "metadata": {},
   "outputs": [],
   "source": [
    "gender_data = {'male': 1, 'female': 0}\n",
    "smoker_data = {'yes': 1, 'no': 0}"
   ]
  },
  {
   "cell_type": "code",
   "execution_count": 70,
   "id": "e4851d3f",
   "metadata": {},
   "outputs": [
    {
     "data": {
      "text/plain": [
       "{'male': 1, 'female': 0}"
      ]
     },
     "execution_count": 70,
     "metadata": {},
     "output_type": "execute_result"
    }
   ],
   "source": [
    "gender_data"
   ]
  },
  {
   "cell_type": "code",
   "execution_count": 71,
   "id": "5dda4a19",
   "metadata": {},
   "outputs": [
    {
     "data": {
      "text/plain": [
       "['age',\n",
       " 'gender',\n",
       " 'bmi',\n",
       " 'children',\n",
       " 'smoker',\n",
       " 'region_northeast',\n",
       " 'region_northwest',\n",
       " 'region_southeast',\n",
       " 'region_southwest']"
      ]
     },
     "execution_count": 71,
     "metadata": {},
     "output_type": "execute_result"
    }
   ],
   "source": [
    "column_names = x.columns.tolist()\n",
    "column_names"
   ]
  },
  {
   "cell_type": "code",
   "execution_count": 72,
   "id": "63f3d0ab",
   "metadata": {},
   "outputs": [
    {
     "data": {
      "text/plain": [
       "'region_southeast'"
      ]
     },
     "execution_count": 72,
     "metadata": {},
     "output_type": "execute_result"
    }
   ],
   "source": [
    "gender = gender_data[gender]\n",
    "smoker = smoker_data[smoker]\n",
    "\n",
    "region = 'region_'+region\n",
    "region"
   ]
  },
  {
   "cell_type": "code",
   "execution_count": 73,
   "id": "a24772ef",
   "metadata": {},
   "outputs": [
    {
     "data": {
      "text/plain": [
       "9"
      ]
     },
     "execution_count": 73,
     "metadata": {},
     "output_type": "execute_result"
    }
   ],
   "source": [
    "linear_reg.n_features_in_"
   ]
  },
  {
   "cell_type": "code",
   "execution_count": 74,
   "id": "658d9be4",
   "metadata": {},
   "outputs": [
    {
     "data": {
      "text/plain": [
       "Index(['age', 'gender', 'bmi', 'children', 'smoker', 'region_northeast',\n",
       "       'region_northwest', 'region_southeast', 'region_southwest'],\n",
       "      dtype='object')"
      ]
     },
     "execution_count": 74,
     "metadata": {},
     "output_type": "execute_result"
    }
   ],
   "source": [
    "x_train.columns"
   ]
  },
  {
   "cell_type": "code",
   "execution_count": 75,
   "id": "ebb062aa",
   "metadata": {},
   "outputs": [
    {
     "data": {
      "text/plain": [
       "array([[29.   ,  1.   , 28.265,  2.   ,  1.   ,  0.   ,  0.   ,  0.   ,\n",
       "         0.   ]])"
      ]
     },
     "execution_count": 75,
     "metadata": {},
     "output_type": "execute_result"
    }
   ],
   "source": [
    "test_array = np.zeros((1, linear_reg.n_features_in_))\n",
    "test_array[0,0] = age\n",
    "test_array[0,1] = gender\n",
    "test_array[0,2] = bmi\n",
    "test_array[0,3] = children\n",
    "test_array[0,4] = smoker\n",
    "test_array"
   ]
  },
  {
   "cell_type": "code",
   "execution_count": 76,
   "id": "eb0e4c80",
   "metadata": {},
   "outputs": [
    {
     "data": {
      "text/plain": [
       "7"
      ]
     },
     "execution_count": 76,
     "metadata": {},
     "output_type": "execute_result"
    }
   ],
   "source": [
    "region_index = x_train.columns.tolist().index(region)\n",
    "region_index"
   ]
  },
  {
   "cell_type": "code",
   "execution_count": 77,
   "id": "95fc2f01",
   "metadata": {},
   "outputs": [],
   "source": [
    "test_array[0][region_index] = 1"
   ]
  },
  {
   "cell_type": "code",
   "execution_count": 78,
   "id": "d42f2476",
   "metadata": {},
   "outputs": [
    {
     "data": {
      "text/plain": [
       "array([[29.   ,  1.   , 28.265,  2.   ,  1.   ,  0.   ,  0.   ,  1.   ,\n",
       "         0.   ]])"
      ]
     },
     "execution_count": 78,
     "metadata": {},
     "output_type": "execute_result"
    }
   ],
   "source": [
    "test_array"
   ]
  },
  {
   "cell_type": "code",
   "execution_count": 79,
   "id": "92fbb4e1",
   "metadata": {},
   "outputs": [
    {
     "name": "stdout",
     "output_type": "stream",
     "text": [
      "Pridict Medical Insurance Charges -->  29020.738\n"
     ]
    }
   ],
   "source": [
    "predicted_charges = np.around(linear_reg.predict(test_array)[0],3)\n",
    "\n",
    "print(\"Predict Medical Insurance Charges --> \", predicted_charges)"
   ]
  },
  {
   "cell_type": "code",
   "execution_count": 80,
   "id": "486715a9",
   "metadata": {},
   "outputs": [],
   "source": [
    "with open('Medical_Insurance.pkl','wb') as f:\n",
    "    pickle.dump(linear_reg, f)"
   ]
  },
  {
   "cell_type": "code",
   "execution_count": 81,
   "id": "a2f484f6",
   "metadata": {},
   "outputs": [],
   "source": [
    "project_data = {\"Gender\": gender_data,\n",
    "               \"Smoker\":smoker_data,\n",
    "               \"Column Names\" : column_names}\n",
    "\n",
    "with open('proj_data.json','w') as f:\n",
    "    json.dump(project_data, f)"
   ]
  },
  {
   "cell_type": "code",
   "execution_count": null,
   "id": "65e03896",
   "metadata": {},
   "outputs": [],
   "source": []
  }
 ],
 "metadata": {
  "kernelspec": {
   "display_name": "Python 3 (ipykernel)",
   "language": "python",
   "name": "python3"
  },
  "language_info": {
   "codemirror_mode": {
    "name": "ipython",
    "version": 3
   },
   "file_extension": ".py",
   "mimetype": "text/x-python",
   "name": "python",
   "nbconvert_exporter": "python",
   "pygments_lexer": "ipython3",
   "version": "3.9.13"
  }
 },
 "nbformat": 4,
 "nbformat_minor": 5
}
